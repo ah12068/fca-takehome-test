{
 "cells": [
  {
   "cell_type": "markdown",
   "metadata": {},
   "source": [
    "## Imports"
   ]
  },
  {
   "cell_type": "code",
   "execution_count": 1,
   "metadata": {
    "ExecuteTime": {
     "end_time": "2020-05-01T11:40:09.711713Z",
     "start_time": "2020-05-01T11:40:09.443879Z"
    }
   },
   "outputs": [],
   "source": [
    "import pandas as pd\n",
    "import numpy as np"
   ]
  },
  {
   "cell_type": "markdown",
   "metadata": {},
   "source": [
    "## Read data"
   ]
  },
  {
   "cell_type": "code",
   "execution_count": 2,
   "metadata": {
    "ExecuteTime": {
     "end_time": "2020-05-01T11:40:10.906447Z",
     "start_time": "2020-05-01T11:40:09.713278Z"
    }
   },
   "outputs": [
    {
     "name": "stderr",
     "output_type": "stream",
     "text": [
      "/home/dangj/PycharmProjects/fca-takehome-test/venv/lib/python3.7/site-packages/IPython/core/interactiveshell.py:3063: DtypeWarning: Columns (7) have mixed types.Specify dtype option on import or set low_memory=False.\n",
      "  interactivity=interactivity, compiler=compiler, result=result)\n"
     ]
    }
   ],
   "source": [
    "df = pd.read_csv(\"../data/interim/loans_int.csv\")"
   ]
  },
  {
   "cell_type": "code",
   "execution_count": 3,
   "metadata": {
    "ExecuteTime": {
     "end_time": "2020-05-01T11:40:10.916730Z",
     "start_time": "2020-05-01T11:40:10.907942Z"
    }
   },
   "outputs": [],
   "source": [
    "data_dict = pd.read_csv('../references/data-dictionary.csv')"
   ]
  },
  {
   "cell_type": "markdown",
   "metadata": {},
   "source": [
    "## Objectives"
   ]
  },
  {
   "cell_type": "markdown",
   "metadata": {},
   "source": [
    "- Understand the data\n",
    "- Check data for completeness na's and cells with whitespace and resolve\n",
    "- Check object data type and resolve\n",
    "\n",
    "Overall picture:\n",
    "\n",
    "- Want to answer: How to predict if an individual will default or pay their full loan?\n",
    "- Model to be used as a tool to support analysts => simple model to use and understand\n",
    "- Worth assessing the monetary value of model\n",
    "- Part of IRB process to build a PD model"
   ]
  },
  {
   "cell_type": "markdown",
   "metadata": {},
   "source": [
    "- Metrics to use are Acc, AUC/ROC, Recall\n",
    "\n",
    "- Recall is important because allows business decisions to be made and how much capital to hold for emergency/unforeseen purposes dictated by IRB => investment opportunities would be missed out on if recall was low"
   ]
  },
  {
   "cell_type": "markdown",
   "metadata": {},
   "source": [
    "## Data dictionary - data understanding"
   ]
  },
  {
   "cell_type": "markdown",
   "metadata": {},
   "source": [
    "- When someone applies for a loan we would not know their loan status! So this would be a type of data leakage and should not be present in the dataset \n",
    "\n",
    "\n",
    "- Currency is in USD $\n",
    "\n",
    "\n",
    "- Can drop post code for district as they represent same thing\n",
    "\n",
    "\n",
    "- Use loan status as a binary predictor for default or not, combine {Late, Charged Off, Default}\n",
    "    - Reason for this is that if you don't pay your bills in time => Late => Default => Charged Off\n",
    "    - Combine Late due to compliance with IRB (https://www.bankofengland.co.uk/-/media/boe/files/prudential-regulation/supervisory-statement/2019/ss1113update-march2019) as we have the option to do so. Also combine to help minimise how imbalanced the data is\n",
    "    \n",
    "    \n",
    "- Remove Ongoing samples, as the information there tells us about current loans, while we care about loans which have defaulted and fully paid, while this is information loss, how much information we lose is reasonable as Ongoing dataset accounts for only 2\\% of the entire dataset\n",
    "\n",
    "\n",
    "- Remove loan status as this feature is not available when trying to predict a loan application (data leakage), \n",
    "- same with issue date, this is something we get given that a loan was granted and understand the risks that comes with it, which is what we're trying to reduce i.e PD\n"
   ]
  },
  {
   "cell_type": "code",
   "execution_count": 4,
   "metadata": {
    "ExecuteTime": {
     "end_time": "2020-05-01T11:40:10.926340Z",
     "start_time": "2020-05-01T11:40:10.918460Z"
    }
   },
   "outputs": [
    {
     "data": {
      "text/plain": [
       "(237436, 32)"
      ]
     },
     "execution_count": 4,
     "metadata": {},
     "output_type": "execute_result"
    }
   ],
   "source": [
    "df.shape"
   ]
  },
  {
   "cell_type": "code",
   "execution_count": 5,
   "metadata": {
    "ExecuteTime": {
     "end_time": "2020-05-01T11:40:10.948748Z",
     "start_time": "2020-05-01T11:40:10.927840Z"
    },
    "scrolled": false
   },
   "outputs": [
    {
     "data": {
      "text/html": [
       "<div>\n",
       "<style scoped>\n",
       "    .dataframe tbody tr th:only-of-type {\n",
       "        vertical-align: middle;\n",
       "    }\n",
       "\n",
       "    .dataframe tbody tr th {\n",
       "        vertical-align: top;\n",
       "    }\n",
       "\n",
       "    .dataframe thead th {\n",
       "        text-align: right;\n",
       "    }\n",
       "</style>\n",
       "<table border=\"1\" class=\"dataframe\">\n",
       "  <thead>\n",
       "    <tr style=\"text-align: right;\">\n",
       "      <th></th>\n",
       "      <th>account_id</th>\n",
       "      <th>installment</th>\n",
       "      <th>loan_amount</th>\n",
       "      <th>interest_rate</th>\n",
       "      <th>term</th>\n",
       "      <th>purpose</th>\n",
       "      <th>issue_date</th>\n",
       "      <th>description</th>\n",
       "      <th>title</th>\n",
       "      <th>home_ownership</th>\n",
       "      <th>...</th>\n",
       "      <th>credit_card_usage</th>\n",
       "      <th>credit_card_balance</th>\n",
       "      <th>total_current_balance</th>\n",
       "      <th>nr_accounts</th>\n",
       "      <th>loan_status</th>\n",
       "      <th>amount_payed</th>\n",
       "      <th>year</th>\n",
       "      <th>district</th>\n",
       "      <th>postcode_district</th>\n",
       "      <th>credit_score</th>\n",
       "    </tr>\n",
       "  </thead>\n",
       "  <tbody>\n",
       "    <tr>\n",
       "      <th>0</th>\n",
       "      <td>125968</td>\n",
       "      <td>829.10</td>\n",
       "      <td>25000.0</td>\n",
       "      <td>11.89</td>\n",
       "      <td>36 months</td>\n",
       "      <td>debt_consolidation</td>\n",
       "      <td>Aug-2009</td>\n",
       "      <td>Due to a lack of personal finance education an...</td>\n",
       "      <td>Debt consolidation for on-time payer</td>\n",
       "      <td>RENT</td>\n",
       "      <td>...</td>\n",
       "      <td>52.1</td>\n",
       "      <td>28854.0</td>\n",
       "      <td>NaN</td>\n",
       "      <td>42.0</td>\n",
       "      <td>Fully Paid</td>\n",
       "      <td>29324.320000</td>\n",
       "      <td>2009</td>\n",
       "      <td>Liverpool</td>\n",
       "      <td>L69</td>\n",
       "      <td>710.699725</td>\n",
       "    </tr>\n",
       "    <tr>\n",
       "      <th>1</th>\n",
       "      <td>128479</td>\n",
       "      <td>40.50</td>\n",
       "      <td>1200.0</td>\n",
       "      <td>13.11</td>\n",
       "      <td>36 months</td>\n",
       "      <td>debt_consolidation</td>\n",
       "      <td>Mar-2010</td>\n",
       "      <td>If funded, I would use this loan consolidate t...</td>\n",
       "      <td>zxcvb</td>\n",
       "      <td>OWN</td>\n",
       "      <td>...</td>\n",
       "      <td>40.4</td>\n",
       "      <td>2584.0</td>\n",
       "      <td>NaN</td>\n",
       "      <td>31.0</td>\n",
       "      <td>Fully Paid</td>\n",
       "      <td>1457.310000</td>\n",
       "      <td>2010</td>\n",
       "      <td>Redbridge</td>\n",
       "      <td>IG9</td>\n",
       "      <td>416.086929</td>\n",
       "    </tr>\n",
       "    <tr>\n",
       "      <th>2</th>\n",
       "      <td>128650</td>\n",
       "      <td>366.86</td>\n",
       "      <td>10800.0</td>\n",
       "      <td>13.57</td>\n",
       "      <td>36 months</td>\n",
       "      <td>debt_consolidation</td>\n",
       "      <td>Nov-2009</td>\n",
       "      <td>I currently have a personal loan with Citifina...</td>\n",
       "      <td>Nicolechr1978</td>\n",
       "      <td>RENT</td>\n",
       "      <td>...</td>\n",
       "      <td>25.6</td>\n",
       "      <td>3511.0</td>\n",
       "      <td>NaN</td>\n",
       "      <td>40.0</td>\n",
       "      <td>Fully Paid</td>\n",
       "      <td>13195.270000</td>\n",
       "      <td>2009</td>\n",
       "      <td>Rugby</td>\n",
       "      <td>CV21</td>\n",
       "      <td>354.228832</td>\n",
       "    </tr>\n",
       "    <tr>\n",
       "      <th>3</th>\n",
       "      <td>129758</td>\n",
       "      <td>264.11</td>\n",
       "      <td>7200.0</td>\n",
       "      <td>19.05</td>\n",
       "      <td>36 months</td>\n",
       "      <td>debt_consolidation</td>\n",
       "      <td>Aug-2012</td>\n",
       "      <td>Credit cards are out of here, I am tired of be...</td>\n",
       "      <td>caminijio</td>\n",
       "      <td>RENT</td>\n",
       "      <td>...</td>\n",
       "      <td>90.1</td>\n",
       "      <td>3874.0</td>\n",
       "      <td>154930.0</td>\n",
       "      <td>25.0</td>\n",
       "      <td>Fully Paid</td>\n",
       "      <td>9100.804663</td>\n",
       "      <td>2012</td>\n",
       "      <td>West Lindsey</td>\n",
       "      <td>DN21</td>\n",
       "      <td>697.214163</td>\n",
       "    </tr>\n",
       "    <tr>\n",
       "      <th>4</th>\n",
       "      <td>130240</td>\n",
       "      <td>102.92</td>\n",
       "      <td>3000.0</td>\n",
       "      <td>14.26</td>\n",
       "      <td>36 months</td>\n",
       "      <td>credit_card</td>\n",
       "      <td>Sep-2009</td>\n",
       "      <td>I am seeking to refinance a credit account whi...</td>\n",
       "      <td>Rejecting new cardmember agreement</td>\n",
       "      <td>MORTGAGE</td>\n",
       "      <td>...</td>\n",
       "      <td>39.5</td>\n",
       "      <td>4740.0</td>\n",
       "      <td>NaN</td>\n",
       "      <td>23.0</td>\n",
       "      <td>Fully Paid</td>\n",
       "      <td>3703.380000</td>\n",
       "      <td>2009</td>\n",
       "      <td>South Derbyshire</td>\n",
       "      <td>DE11</td>\n",
       "      <td>799.428700</td>\n",
       "    </tr>\n",
       "  </tbody>\n",
       "</table>\n",
       "<p>5 rows × 32 columns</p>\n",
       "</div>"
      ],
      "text/plain": [
       "   account_id  installment  loan_amount  interest_rate        term  \\\n",
       "0      125968       829.10      25000.0          11.89   36 months   \n",
       "1      128479        40.50       1200.0          13.11   36 months   \n",
       "2      128650       366.86      10800.0          13.57   36 months   \n",
       "3      129758       264.11       7200.0          19.05   36 months   \n",
       "4      130240       102.92       3000.0          14.26   36 months   \n",
       "\n",
       "              purpose issue_date  \\\n",
       "0  debt_consolidation   Aug-2009   \n",
       "1  debt_consolidation   Mar-2010   \n",
       "2  debt_consolidation   Nov-2009   \n",
       "3  debt_consolidation   Aug-2012   \n",
       "4         credit_card   Sep-2009   \n",
       "\n",
       "                                         description  \\\n",
       "0  Due to a lack of personal finance education an...   \n",
       "1  If funded, I would use this loan consolidate t...   \n",
       "2  I currently have a personal loan with Citifina...   \n",
       "3  Credit cards are out of here, I am tired of be...   \n",
       "4  I am seeking to refinance a credit account whi...   \n",
       "\n",
       "                                  title home_ownership  ... credit_card_usage  \\\n",
       "0  Debt consolidation for on-time payer           RENT  ...              52.1   \n",
       "1                                 zxcvb            OWN  ...              40.4   \n",
       "2                         Nicolechr1978           RENT  ...              25.6   \n",
       "3                             caminijio           RENT  ...              90.1   \n",
       "4    Rejecting new cardmember agreement       MORTGAGE  ...              39.5   \n",
       "\n",
       "  credit_card_balance total_current_balance nr_accounts  loan_status  \\\n",
       "0             28854.0                   NaN        42.0   Fully Paid   \n",
       "1              2584.0                   NaN        31.0   Fully Paid   \n",
       "2              3511.0                   NaN        40.0   Fully Paid   \n",
       "3              3874.0              154930.0        25.0   Fully Paid   \n",
       "4              4740.0                   NaN        23.0   Fully Paid   \n",
       "\n",
       "   amount_payed  year          district  postcode_district  credit_score  \n",
       "0  29324.320000  2009         Liverpool                L69    710.699725  \n",
       "1   1457.310000  2010         Redbridge                IG9    416.086929  \n",
       "2  13195.270000  2009             Rugby               CV21    354.228832  \n",
       "3   9100.804663  2012      West Lindsey               DN21    697.214163  \n",
       "4   3703.380000  2009  South Derbyshire               DE11    799.428700  \n",
       "\n",
       "[5 rows x 32 columns]"
      ]
     },
     "execution_count": 5,
     "metadata": {},
     "output_type": "execute_result"
    }
   ],
   "source": [
    "df.head()"
   ]
  },
  {
   "cell_type": "code",
   "execution_count": 6,
   "metadata": {
    "ExecuteTime": {
     "end_time": "2020-05-01T11:40:10.976555Z",
     "start_time": "2020-05-01T11:40:10.950138Z"
    }
   },
   "outputs": [
    {
     "data": {
      "text/plain": [
       "Fully Paid          206202\n",
       "Charged Off          14956\n",
       "Late (> 90 days)      9298\n",
       "Ongoing               5761\n",
       "Default               1219\n",
       "Name: loan_status, dtype: int64"
      ]
     },
     "execution_count": 6,
     "metadata": {},
     "output_type": "execute_result"
    }
   ],
   "source": [
    "df.loan_status.value_counts()"
   ]
  },
  {
   "cell_type": "code",
   "execution_count": 7,
   "metadata": {
    "ExecuteTime": {
     "end_time": "2020-05-01T11:40:10.987413Z",
     "start_time": "2020-05-01T11:40:10.978297Z"
    },
    "code_folding": [
     0
    ],
    "scrolled": false
   },
   "outputs": [
    {
     "name": "stdout",
     "output_type": "stream",
     "text": [
      "annual_income:\n",
      "The self-reported annual income provided by the borrower during registration.\n",
      "\n",
      "\n",
      "delinquency_2y:\n",
      "The number of 30+ days past-due incidences of delinquency in the borrower's credit file for the past 2 years.\n",
      "\n",
      "\n",
      "description:\n",
      "Loan description provided by the borrower.\n",
      "\n",
      "\n",
      "debt_to_income:\n",
      "A ratio calculated using the borrower's total monthly debt payments on the total debt obligations, excluding mortgage and the requested loan, divided by the borrower’s self-reported monthly income.\n",
      "\n",
      "\n",
      "earliest_credit_line:\n",
      "The month the borrower's earliest reported credit line was opened.\n",
      "\n",
      "\n",
      "employment_length:\n",
      "Employment length in years. Possible values are between 0 and 10 where 0 means less than one year and 10 means ten or more years.\n",
      "\n",
      "\n",
      "job_title:\n",
      "The job title supplied by the borrower when applying for the loan.\n",
      "\n",
      "\n",
      "home_ownership:\n",
      "The home ownership status provided by the borrower during registration. The values are: RENT, OWN, MORTGAGE, OTHER.\n",
      "\n",
      "\n",
      "inquiries_6m:\n",
      "The number of inquiries in past 6 months (excluding auto and mortgage inquiries).\n",
      "\n",
      "\n",
      "installment:\n",
      "The monthly payment owed by the borrower.\n",
      "\n",
      "\n",
      "interest_rate:\n",
      "Interest rate on the loan.\n",
      "\n",
      "\n",
      "issue_date:\n",
      "The month which the loan was funded.\n",
      "\n",
      "\n",
      "loan_amount:\n",
      "The listed amount of the loan applied for by the borrower.\n",
      "\n",
      "\n",
      "loan_status:\n",
      "Current status of the loan.\n",
      "\n",
      "\n",
      "last_delinquency_months:\n",
      "The number of months since the borrower's last delinquency.\n",
      "\n",
      "\n",
      "last_derog_months:\n",
      "Months since most recent 90-day or worse rating.\n",
      "\n",
      "\n",
      "last_record_months:\n",
      "The number of months since the last public record.\n",
      "\n",
      "\n",
      "open_accounts:\n",
      "The number of open credit lines in the borrower's credit file.\n",
      "\n",
      "\n",
      "public_records:\n",
      "Number of derogatory public records.\n",
      "\n",
      "\n",
      "purpose:\n",
      "A category provided by the borrower for the loan request.\n",
      "\n",
      "\n",
      "credit_card_balance:\n",
      "Total credit revolving balance.\n",
      "\n",
      "\n",
      "credit_card_usage:\n",
      "Revolving line utilization rate, or the amount of credit the borrower is using relative to all available revolving credit.\n",
      "\n",
      "\n",
      "term:\n",
      "The number of payments on the loan. Values are in months and can be either 36 or 60.\n",
      "\n",
      "\n",
      "title:\n",
      "The loan title provided by the borrower.\n",
      "\n",
      "\n",
      "nr_accounts:\n",
      "The total number of credit lines currently in the borrower's credit file.\n",
      "\n",
      "\n",
      "amount_payed:\n",
      "Payments received to date for total amount funded.\n",
      "\n",
      "\n",
      "total_current_balance:\n",
      "Total current balance of all accounts.\n",
      "\n",
      "\n",
      "year:\n",
      "The year which the loan was funded.\n",
      "\n",
      "\n",
      "district:\n",
      "The geographic district of the borrower's address.\n",
      "\n",
      "\n",
      "postcode_district:\n",
      "The postcode of the borrower's address.\n",
      "\n",
      "\n",
      "credit_score:\n",
      "A numeric score rating the creditworthiness of the borrower.\n",
      "\n",
      "\n"
     ]
    }
   ],
   "source": [
    "for idx in range(data_dict.shape[0]):\n",
    "    variable = data_dict.iloc[idx,0]\n",
    "    description = data_dict.iloc[idx,1]\n",
    "    print(f'{variable}:\\n{description}\\n\\n')"
   ]
  },
  {
   "cell_type": "markdown",
   "metadata": {},
   "source": [
    "## Data completeness"
   ]
  },
  {
   "cell_type": "code",
   "execution_count": 8,
   "metadata": {
    "ExecuteTime": {
     "end_time": "2020-05-01T11:40:11.120056Z",
     "start_time": "2020-05-01T11:40:10.991039Z"
    }
   },
   "outputs": [
    {
     "name": "stdout",
     "output_type": "stream",
     "text": [
      "['description', 'title', 'employment_length', 'job_title', 'last_record_months', 'last_delinquency_months', 'last_derog_months', 'credit_card_usage', 'total_current_balance', 'district']\n"
     ]
    }
   ],
   "source": [
    "df_nan = [col for col in df.columns if df[col].isnull().any()==True]\n",
    "print(df_nan)"
   ]
  },
  {
   "cell_type": "markdown",
   "metadata": {},
   "source": [
    "## Data types"
   ]
  },
  {
   "cell_type": "code",
   "execution_count": 9,
   "metadata": {
    "ExecuteTime": {
     "end_time": "2020-05-01T11:40:11.125472Z",
     "start_time": "2020-05-01T11:40:11.122054Z"
    }
   },
   "outputs": [
    {
     "name": "stdout",
     "output_type": "stream",
     "text": [
      "['term', 'purpose', 'issue_date', 'description', 'title', 'home_ownership', 'annual_income', 'employment_length', 'job_title', 'earliest_credit_line', 'loan_status', 'district', 'postcode_district']\n"
     ]
    }
   ],
   "source": [
    "df_obj_type = [col for col in df.columns if df[col].dtypes=='object']\n",
    "print(df_obj_type)"
   ]
  },
  {
   "cell_type": "markdown",
   "metadata": {},
   "source": [
    "## Resolve completeness"
   ]
  },
  {
   "cell_type": "markdown",
   "metadata": {},
   "source": [
    "- Need to resolve variables with nan in columns\n",
    "- Impute total_current_balance with the IQR split by region/district this way we remove potential outliers in the amounts shown by descriptive statistics\n"
   ]
  },
  {
   "cell_type": "code",
   "execution_count": 10,
   "metadata": {
    "ExecuteTime": {
     "end_time": "2020-05-01T11:40:11.253670Z",
     "start_time": "2020-05-01T11:40:11.127666Z"
    },
    "code_folding": []
   },
   "outputs": [
    {
     "name": "stdout",
     "output_type": "stream",
     "text": [
      "{'Drop': ['description', 'last_record_months', 'last_delinquency_months', 'last_derog_months'], 'Impute': ['total_current_balance'], 'Drop Samples': ['title', 'employment_length', 'job_title', 'credit_card_usage', 'district']}\n"
     ]
    }
   ],
   "source": [
    "dict_cols_resolve = {}\n",
    "dropped = []\n",
    "impute = []\n",
    "sample_drop = []\n",
    "\n",
    "for col in df_nan:\n",
    "    num_nan = df[[col]].isna().sum()\n",
    "    total = df.shape[0]\n",
    "    nan_pct = (num_nan/total * 100).values[0] \n",
    "    \n",
    "    if nan_pct >= 50:\n",
    "        dropped.append(col)\n",
    "    elif nan_pct < 50 and nan_pct >=20:\n",
    "        impute.append(col)\n",
    "    else:\n",
    "        sample_drop.append(col)\n",
    "\n",
    "dict_cols_resolve['Drop'] = dropped\n",
    "dict_cols_resolve['Impute'] = impute\n",
    "dict_cols_resolve['Drop Samples'] = sample_drop\n",
    "\n",
    "print(dict_cols_resolve)"
   ]
  },
  {
   "cell_type": "code",
   "execution_count": 11,
   "metadata": {
    "ExecuteTime": {
     "end_time": "2020-05-01T11:40:11.313118Z",
     "start_time": "2020-05-01T11:40:11.255250Z"
    }
   },
   "outputs": [
    {
     "name": "stdout",
     "output_type": "stream",
     "text": [
      "title\n",
      "12\n",
      "\n",
      "employment_length\n",
      "9177\n",
      "\n",
      "job_title\n",
      "12601\n",
      "\n",
      "credit_card_usage\n",
      "173\n",
      "\n",
      "district\n",
      "888\n",
      "\n"
     ]
    }
   ],
   "source": [
    "for col in dict_cols_resolve['Drop Samples']:\n",
    "    print(f'{col}\\n{df[col].isna().sum()}\\n')"
   ]
  },
  {
   "cell_type": "code",
   "execution_count": 12,
   "metadata": {
    "ExecuteTime": {
     "end_time": "2020-05-01T11:40:11.514985Z",
     "start_time": "2020-05-01T11:40:11.314700Z"
    }
   },
   "outputs": [
    {
     "data": {
      "text/plain": [
       "Teacher                              1953\n",
       "Manager                              1912\n",
       "Registered Nurse                      865\n",
       "Supervisor                            860\n",
       "RN                                    844\n",
       "                                     ... \n",
       "Catch 35 Chicago                        1\n",
       "MHC OPERATING LIMITED PARTNERSHIP       1\n",
       "Hawkeye                                 1\n",
       "APPTIS                                  1\n",
       "AVMS                                    1\n",
       "Name: job_title, Length: 123190, dtype: int64"
      ]
     },
     "execution_count": 12,
     "metadata": {},
     "output_type": "execute_result"
    }
   ],
   "source": [
    "df['job_title'].value_counts()"
   ]
  },
  {
   "cell_type": "markdown",
   "metadata": {},
   "source": [
    "## Resolve Datatypes"
   ]
  },
  {
   "cell_type": "markdown",
   "metadata": {},
   "source": [
    "- issue_date to datetime format\n",
    "- merge description to purpose, some are grouped as credit card but are actually debt consolidation\n",
    "- simplify purpose down to about 4 groups (debt_consolidation, other, leisure, work_and_education)"
   ]
  },
  {
   "cell_type": "code",
   "execution_count": 13,
   "metadata": {
    "ExecuteTime": {
     "end_time": "2020-05-01T11:40:11.544119Z",
     "start_time": "2020-05-01T11:40:11.516530Z"
    }
   },
   "outputs": [
    {
     "data": {
      "text/plain": [
       "debt_consolidation    139509\n",
       "credit_card            47820\n",
       "home_improvement       14260\n",
       "other                  12913\n",
       "major_purchase          5920\n",
       "small_business          3957\n",
       "car                     3416\n",
       "medical                 2601\n",
       "moving                  1834\n",
       "wedding                 1742\n",
       "house                   1514\n",
       "vacation                1485\n",
       "educational              236\n",
       "renewable_energy         229\n",
       "Name: purpose, dtype: int64"
      ]
     },
     "execution_count": 13,
     "metadata": {},
     "output_type": "execute_result"
    }
   ],
   "source": [
    "df['purpose'].value_counts()"
   ]
  },
  {
   "cell_type": "code",
   "execution_count": 14,
   "metadata": {
    "ExecuteTime": {
     "end_time": "2020-05-01T11:40:11.573328Z",
     "start_time": "2020-05-01T11:40:11.545704Z"
    }
   },
   "outputs": [
    {
     "data": {
      "text/plain": [
       "  Borrower added on 05/27/10 > It is a personal reason that I am helping out a close family member<br/> Borrower added on 05/27/10 > This loan is to help out a family member in need of financial support.<br/> Borrower added on 05/27/10 > This is loan to help out an immediate family member .<br/> Borrower added on 06/02/10 > This loan will be repaid as soon as possible, possibly within 90 days<br/> Borrower added on 06/08/10 > I am willing to go for a lower amount, say $10,000<br/> Borrower added on 06/08/10 > I will gladly accept whatever is offered to me with great thanks.<br/>                                                                                                                                                                                                                     1\n",
       "  Borrower added on 10/22/10 > Loan will provide update to Main Bathroom, updating heating systems in home and payoff of a higher intrest Credit card.  <br/>I work for a fortune 80 company for 7 years in a leadership postion.  I have never been late on any payments of credit I hold or have held. My debt to income ratio is also very good.   Thank you.<br/> Borrower added on 10/22/10 > This loan purpose is to update main bathroom in home, update heating system and pay off higher interest card.  I have a 730+ credit score with no negatives on current or closed creditors. I work for a fortune 80 IT company for 7 years in a leadership position.  Thank you.<br/>                                                                                                                                      1\n",
       "  Borrower added on 11/29/11 > This Lending Club loan is to pay off $12,000 of a $15,000 higher interest rate 9.99% credit line for a solar system we financed.  We also have approx $11,000 no payment/no interest for 1 year credit line to finance the rest of the solar system that will be paid off when we receive the solar tax credit from filing our tax return in 2012. We also have a home improvement credit line from Lowes approx $10,000 that we pay $1,000 per month so that we can pay it off early.  Student loan balance approx $20,000 we pay $500 per month so that we can pay it off early. All other credit cards/lines of credit are paid off every month as we only use our credit cards to earn points.  <br>                                                                                       1\n",
       "  Borrower added on 05/22/13 > Hydroponic ( green ) agriculture.  There is a ready market here in the North Texas area for organic, hydroponically-grown food and I have recently acquired a satisfactory location for the first greenhouse.  I'm ready to begin; this will not detract from my primary employment.<br>                                                                                                                                                                                                                                                                                                                                                                                                                                                                                                       1\n",
       "  Borrower added on 08/31/11 > For a healthy Water Purification System.<br/>                                                                                                                                                                                                                                                                                                                                                                                                                                                                                                                                                                                                                                                                                                                                                  1\n",
       "                                                                                                                                                                                                                                                                                                                                                                                                                                                                                                                                                                                                                                                                                                                                                                                                                             ..\n",
       "  Borrower added on 11/27/12 > I'm going to use this loan to pay some credit cards, but most especially I'm going to use this loan to prepare for my future and soon to be a husband - needed some money for wedding preparations.<br>                                                                                                                                                                                                                                                                                                                                                                                                                                                                                                                                                                                        1\n",
       "  Borrower added on 04/17/11 > This loan is for 2010 tax debt on personal and rental property taxes..<br/>                                                                                                                                                                                                                                                                                                                                                                                                                                                                                                                                                                                                                                                                                                                    1\n",
       "  Borrower added on 07/20/11 > Loan will be used to replace the inefficient, 20+ year old furnace and air conditioning system in our home which is currently failing.<br/>                                                                                                                                                                                                                                                                                                                                                                                                                                                                                                                                                                                                                                                    1\n",
       "  Borrower added on 11/16/11 > Ionizer purchase<br>                                                                                                                                                                                                                                                                                                                                                                                                                                                                                                                                                                                                                                                                                                                                                                           1\n",
       "  Borrower added on 09/27/12 > This loan will be to install a Solar Panel Array at my home.  Any remaining funds will go towards existing student loans at a higher interest rate.<br><br>  Borrower added on 09/27/12 > So I am installing a 4.2Kw Solar power system to help offset my familys impact on the planet.  I expect that to cost around $10,000, and anything remaining will go to, with some added funds from my savings, paying off an old high interest student loan.  Thanks.<br><br>  Borrower added on 09/28/12 > Adding that the system is all set, it will be comprised of a dual inverter 7.2KW system array with 20 250W panels to start creating a potential for 4 KW, but will be expanded with a second charge controller and 14 more panels to reach full 7.2 KW potential at a later date.<br>    1\n",
       "Name: description, Length: 92, dtype: int64"
      ]
     },
     "execution_count": 14,
     "metadata": {},
     "output_type": "execute_result"
    }
   ],
   "source": [
    "#df[(df['description'].str.contains('paying off')==True)].head()\n",
    "#df[df.index==21].description.values #example of debt consolidation\n",
    "df[df['purpose']=='renewable_energy'].description.value_counts()"
   ]
  }
 ],
 "metadata": {
  "kernelspec": {
   "display_name": "Python 3",
   "language": "python",
   "name": "python3"
  },
  "language_info": {
   "codemirror_mode": {
    "name": "ipython",
    "version": 3
   },
   "file_extension": ".py",
   "mimetype": "text/x-python",
   "name": "python",
   "nbconvert_exporter": "python",
   "pygments_lexer": "ipython3",
   "version": "3.7.5"
  },
  "latex_envs": {
   "LaTeX_envs_menu_present": true,
   "autoclose": false,
   "autocomplete": true,
   "bibliofile": "biblio.bib",
   "cite_by": "apalike",
   "current_citInitial": 1,
   "eqLabelWithNumbers": true,
   "eqNumInitial": 1,
   "hotkeys": {
    "equation": "Ctrl-E",
    "itemize": "Ctrl-I"
   },
   "labels_anchors": false,
   "latex_user_defs": false,
   "report_style_numbering": false,
   "user_envs_cfg": false
  },
  "varInspector": {
   "cols": {
    "lenName": 16,
    "lenType": 16,
    "lenVar": 40
   },
   "kernels_config": {
    "python": {
     "delete_cmd_postfix": "",
     "delete_cmd_prefix": "del ",
     "library": "var_list.py",
     "varRefreshCmd": "print(var_dic_list())"
    },
    "r": {
     "delete_cmd_postfix": ") ",
     "delete_cmd_prefix": "rm(",
     "library": "var_list.r",
     "varRefreshCmd": "cat(var_dic_list()) "
    }
   },
   "types_to_exclude": [
    "module",
    "function",
    "builtin_function_or_method",
    "instance",
    "_Feature"
   ],
   "window_display": false
  }
 },
 "nbformat": 4,
 "nbformat_minor": 4
}
