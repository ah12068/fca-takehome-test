{
 "cells": [
  {
   "cell_type": "markdown",
   "metadata": {
    "heading_collapsed": true
   },
   "source": [
    "# imports"
   ]
  },
  {
   "cell_type": "code",
   "execution_count": 1,
   "metadata": {
    "ExecuteTime": {
     "end_time": "2020-05-02T14:43:33.725914Z",
     "start_time": "2020-05-02T14:43:32.481709Z"
    },
    "hidden": true
   },
   "outputs": [],
   "source": [
    "import pandas as pd\n",
    "import numpy as np\n",
    "import seaborn as sns\n",
    "import matplotlib.pyplot as plt\n",
    "import plotly.graph_objs as go\n",
    "import plotly.io as pio\n",
    "\n",
    "pio.templates.default = 'plotly_white'\n",
    "pd.set_option('display.float_format', '{:.5f}'.format)"
   ]
  },
  {
   "cell_type": "markdown",
   "metadata": {
    "heading_collapsed": true
   },
   "source": [
    "# read data"
   ]
  },
  {
   "cell_type": "code",
   "execution_count": 2,
   "metadata": {
    "ExecuteTime": {
     "end_time": "2020-05-02T14:43:34.700882Z",
     "start_time": "2020-05-02T14:43:33.727550Z"
    },
    "hidden": true
   },
   "outputs": [
    {
     "name": "stderr",
     "output_type": "stream",
     "text": [
      "/home/dangj/PycharmProjects/fca-takehome-test/venv/lib/python3.7/site-packages/IPython/core/interactiveshell.py:3063: DtypeWarning:\n",
      "\n",
      "Columns (7) have mixed types.Specify dtype option on import or set low_memory=False.\n",
      "\n"
     ]
    }
   ],
   "source": [
    "df = pd.read_csv(\"../data/interim/loans_int.csv\")"
   ]
  },
  {
   "cell_type": "markdown",
   "metadata": {},
   "source": [
    "# functions to clean data"
   ]
  },
  {
   "cell_type": "code",
   "execution_count": 3,
   "metadata": {
    "ExecuteTime": {
     "end_time": "2020-05-02T14:43:34.716847Z",
     "start_time": "2020-05-02T14:43:34.702341Z"
    },
    "code_folding": [
     0,
     7,
     15,
     20,
     28,
     34,
     49,
     55,
     63,
     70,
     74,
     87,
     93,
     94,
     103,
     109,
     111,
     116
    ]
   },
   "outputs": [],
   "source": [
    "def lower_case_cols(df):\n",
    "    cols_to_lower = df.select_dtypes(include='object').columns\n",
    "    for col in cols_to_lower:\n",
    "        df[col] = df[col].str.lower()\n",
    "    \n",
    "    return \n",
    "\n",
    "def remove_whitespace(df):\n",
    "    cols_to_clean = df.select_dtypes(include='object').columns\n",
    "    for col in cols_to_clean:\n",
    "        df[col] = df[col].str.strip()\n",
    "    \n",
    "    return \n",
    "\n",
    "\n",
    "def make_col_numeric(df, col):\n",
    "    df[col] = df[col].astype(int)\n",
    "    \n",
    "    return \n",
    "\n",
    "def income_to_numeric(annual_income):\n",
    "    if len(annual_income.split(' ')) == 1:\n",
    "        return float(annual_income)\n",
    "    if len(annual_income.split(' ')) > 1:\n",
    "        return float(annual_income.split(' ')[-1])\n",
    "    else:\n",
    "        return np.nan    \n",
    "\n",
    "def to_datetime(df, col):\n",
    "    df[col] = pd.to_datetime(df[col])\n",
    "    \n",
    "    return \n",
    "\n",
    "    \n",
    "def categorise_employment_length(employment_length):\n",
    "    prefix = 'EL'\n",
    "    \n",
    "    if employment_length in ['10+ years']:\n",
    "        return f'{prefix}_10plus'\n",
    "    if employment_length in ['< 1 year']:\n",
    "        return f'{prefix}_less1'\n",
    "    \n",
    "    if employment_length in ['1 year','2 years','3 years']:\n",
    "        return f'{prefix}_1to3'\n",
    "    if employment_length in ['4 years','5 years','6 years']:\n",
    "        return f'{prefix}_4to6'\n",
    "    if employment_length in ['7 years','8 years','9 years']:\n",
    "        return f'{prefix}_7to9'\n",
    "    \n",
    "def categorise_home_ownership(home_ownership):\n",
    "    if home_ownership in ['mortgage','rent','own']:\n",
    "        return home_ownership\n",
    "    else:\n",
    "        return f'other'\n",
    "\n",
    "def categorise_inquiries(inquiries_6m):\n",
    "    if inquiries_6m==0:\n",
    "        return f'no inquiry'\n",
    "    if inquiries_6m==1:\n",
    "        return f'1 inquiry'\n",
    "    else:\n",
    "        return f'2+ inquiry'\n",
    "    \n",
    "def categorise_purpose(purpose):\n",
    "    \n",
    "    if purpose not in ['debt_consolidation','credit_card']:\n",
    "        return f'other'\n",
    "    else:\n",
    "        return purpose\n",
    "    \n",
    "def categorise_term(term):\n",
    "    return float(term.split(' ')[0])\n",
    "\n",
    "\n",
    "def make_binary_class(loan_status):\n",
    "    if loan_status == 'fully paid':\n",
    "        return 0\n",
    "    if loan_status == 'ongoing':\n",
    "        return np.nan\n",
    "    \n",
    "    if loan_status == 'charged off':\n",
    "        return 1\n",
    "    if loan_status == 'late (> 90 days)':\n",
    "        return 1\n",
    "    if loan_status == 'default':\n",
    "        return 1\n",
    "    \n",
    "def create_credit_age(df, col, cutoff):\n",
    "    df['credit_age'] = cutoff - df[col].dt.year\n",
    "    \n",
    "    return \n",
    "\n",
    "\n",
    "def impute_col(df, col, segment, method):\n",
    "    if col and segment not in df.columns:\n",
    "        raise ValueError(f'columns not in dataframe, was given {col} {segment}')\n",
    "    \n",
    "    if method == 'median':\n",
    "        fill_method = method\n",
    "        fill_value = df[col].median()\n",
    "    elif method == 'mean':\n",
    "        fill_method = method\n",
    "        fill_value_df[col].mean()\n",
    "    else:\n",
    "        raise ValueError(f'method takes only \"median\" or \"mean\", was given {method}')\n",
    "    \n",
    "    filler = df.groupby(f'{segment}')[col].transform(fill_method)\n",
    "    df[col].fillna(filler, inplace=True)\n",
    "    \n",
    "    if df[col].isna().any() == True:\n",
    "        df[col].fillna(fill_value, inplace=True)\n",
    "    else:\n",
    "        pass\n",
    "    \n",
    "    return\n",
    "\n",
    "def drop_na_cols(df, pct_thresh):\n",
    "    row, col = df.shape\n",
    "    threshold = row*pct_thresh\n",
    "    \n",
    "    df.dropna(axis=1, thresh=threshold, inplace=True)\n",
    "    \n",
    "    return \n",
    "\n",
    "def drop_na_rows(df):\n",
    "    df.dropna(axis=0, inplace=True)\n",
    "    \n",
    "    return \n",
    "\n",
    "def drop_cols(df, cols_to_drop):\n",
    "    df.drop(labels = cols_to_drop, axis=1, inplace = True)\n",
    "    return"
   ]
  },
  {
   "cell_type": "code",
   "execution_count": 4,
   "metadata": {
    "ExecuteTime": {
     "end_time": "2020-05-02T14:43:34.721889Z",
     "start_time": "2020-05-02T14:43:34.718390Z"
    }
   },
   "outputs": [],
   "source": [
    "columns = {\n",
    "    \n",
    "    'drop': [\n",
    "        'title',\n",
    "        'job_title',\n",
    "        'district',\n",
    "        'issue_date',\n",
    "        'postcode_district',\n",
    "        'loan_status',\n",
    "        'year',\n",
    "        'earliest_credit_line',\n",
    "        'amount_payed'\n",
    "    ]\n",
    "    \n",
    "}"
   ]
  },
  {
   "cell_type": "markdown",
   "metadata": {},
   "source": [
    "# data cleaning"
   ]
  },
  {
   "cell_type": "markdown",
   "metadata": {},
   "source": [
    " - Remove highly correlated variables \n",
    " - To decide which variable to remove check other correlation with other variables\n",
    " \n",
    " - proceed to train model via back/fwrd selection or recusive feature selection\n",
    " - make sure methods are motivated vs other methods"
   ]
  },
  {
   "cell_type": "code",
   "execution_count": 5,
   "metadata": {
    "ExecuteTime": {
     "end_time": "2020-05-02T14:43:34.727834Z",
     "start_time": "2020-05-02T14:43:34.723373Z"
    }
   },
   "outputs": [
    {
     "data": {
      "text/plain": [
       "(237436, 32)"
      ]
     },
     "execution_count": 5,
     "metadata": {},
     "output_type": "execute_result"
    }
   ],
   "source": [
    "df.shape"
   ]
  },
  {
   "cell_type": "code",
   "execution_count": 6,
   "metadata": {
    "ExecuteTime": {
     "end_time": "2020-05-02T14:43:37.150438Z",
     "start_time": "2020-05-02T14:43:34.729283Z"
    }
   },
   "outputs": [],
   "source": [
    "drop_na_cols(df, 0.5)\n",
    "\n",
    "lower_case_cols(df)\n",
    "remove_whitespace(df)\n",
    "make_col_numeric(df, 'credit_score')\n",
    "to_datetime(df, 'earliest_credit_line')\n",
    "df.annual_income = df.annual_income.apply(income_to_numeric)\n",
    "\n",
    "df.employment_length = df.employment_length.apply(categorise_employment_length)\n",
    "df.home_ownership = df.home_ownership.apply(categorise_home_ownership)\n",
    "df.inquiries_6m = df.inquiries_6m.apply(categorise_inquiries)\n",
    "df.purpose = df.purpose.apply(categorise_purpose)\n",
    "df.term = df.term.apply(categorise_term)\n",
    "\n",
    "impute_col(df, 'total_current_balance', 'district', 'median')\n",
    "\n",
    "create_credit_age(df, 'earliest_credit_line', 2015)\n",
    "df['class'] = df.loan_status.apply(make_binary_class)\n",
    "\n",
    "\n",
    "drop_cols(df, columns['drop'])\n",
    "drop_na_rows(df)"
   ]
  },
  {
   "cell_type": "code",
   "execution_count": 7,
   "metadata": {
    "ExecuteTime": {
     "end_time": "2020-05-02T14:43:37.154330Z",
     "start_time": "2020-05-02T14:43:37.151569Z"
    }
   },
   "outputs": [
    {
     "data": {
      "text/plain": [
       "(222655, 21)"
      ]
     },
     "execution_count": 7,
     "metadata": {},
     "output_type": "execute_result"
    }
   ],
   "source": [
    "df.shape"
   ]
  },
  {
   "cell_type": "code",
   "execution_count": 8,
   "metadata": {
    "ExecuteTime": {
     "end_time": "2020-05-02T14:43:37.167096Z",
     "start_time": "2020-05-02T14:43:37.156289Z"
    }
   },
   "outputs": [
    {
     "data": {
      "text/plain": [
       "Index(['account_id', 'installment', 'loan_amount', 'interest_rate', 'term',\n",
       "       'purpose', 'home_ownership', 'annual_income', 'employment_length',\n",
       "       'public_records', 'delinquency_2y', 'inquiries_6m', 'open_accounts',\n",
       "       'debt_to_income', 'credit_card_usage', 'credit_card_balance',\n",
       "       'total_current_balance', 'nr_accounts', 'credit_score', 'credit_age',\n",
       "       'class'],\n",
       "      dtype='object')"
      ]
     },
     "execution_count": 8,
     "metadata": {},
     "output_type": "execute_result"
    }
   ],
   "source": [
    "df.columns"
   ]
  },
  {
   "cell_type": "code",
   "execution_count": 9,
   "metadata": {
    "ExecuteTime": {
     "end_time": "2020-05-02T14:43:37.197372Z",
     "start_time": "2020-05-02T14:43:37.168745Z"
    },
    "scrolled": true
   },
   "outputs": [
    {
     "data": {
      "text/html": [
       "<div>\n",
       "<style scoped>\n",
       "    .dataframe tbody tr th:only-of-type {\n",
       "        vertical-align: middle;\n",
       "    }\n",
       "\n",
       "    .dataframe tbody tr th {\n",
       "        vertical-align: top;\n",
       "    }\n",
       "\n",
       "    .dataframe thead th {\n",
       "        text-align: right;\n",
       "    }\n",
       "</style>\n",
       "<table border=\"1\" class=\"dataframe\">\n",
       "  <thead>\n",
       "    <tr style=\"text-align: right;\">\n",
       "      <th></th>\n",
       "      <th>account_id</th>\n",
       "      <th>installment</th>\n",
       "      <th>loan_amount</th>\n",
       "      <th>interest_rate</th>\n",
       "      <th>term</th>\n",
       "      <th>purpose</th>\n",
       "      <th>home_ownership</th>\n",
       "      <th>annual_income</th>\n",
       "      <th>employment_length</th>\n",
       "      <th>public_records</th>\n",
       "      <th>...</th>\n",
       "      <th>inquiries_6m</th>\n",
       "      <th>open_accounts</th>\n",
       "      <th>debt_to_income</th>\n",
       "      <th>credit_card_usage</th>\n",
       "      <th>credit_card_balance</th>\n",
       "      <th>total_current_balance</th>\n",
       "      <th>nr_accounts</th>\n",
       "      <th>credit_score</th>\n",
       "      <th>credit_age</th>\n",
       "      <th>class</th>\n",
       "    </tr>\n",
       "  </thead>\n",
       "  <tbody>\n",
       "    <tr>\n",
       "      <th>0</th>\n",
       "      <td>125968</td>\n",
       "      <td>829.10000</td>\n",
       "      <td>25000.00000</td>\n",
       "      <td>11.89000</td>\n",
       "      <td>36.00000</td>\n",
       "      <td>debt_consolidation</td>\n",
       "      <td>rent</td>\n",
       "      <td>85000.00000</td>\n",
       "      <td>EL_less1</td>\n",
       "      <td>0.00000</td>\n",
       "      <td>...</td>\n",
       "      <td>no inquiry</td>\n",
       "      <td>10.00000</td>\n",
       "      <td>19.48000</td>\n",
       "      <td>52.10000</td>\n",
       "      <td>28854.00000</td>\n",
       "      <td>99434.50000</td>\n",
       "      <td>42.00000</td>\n",
       "      <td>710</td>\n",
       "      <td>21</td>\n",
       "      <td>0.00000</td>\n",
       "    </tr>\n",
       "    <tr>\n",
       "      <th>1</th>\n",
       "      <td>128479</td>\n",
       "      <td>40.50000</td>\n",
       "      <td>1200.00000</td>\n",
       "      <td>13.11000</td>\n",
       "      <td>36.00000</td>\n",
       "      <td>debt_consolidation</td>\n",
       "      <td>own</td>\n",
       "      <td>54000.00000</td>\n",
       "      <td>EL_10plus</td>\n",
       "      <td>0.00000</td>\n",
       "      <td>...</td>\n",
       "      <td>no inquiry</td>\n",
       "      <td>5.00000</td>\n",
       "      <td>5.47000</td>\n",
       "      <td>40.40000</td>\n",
       "      <td>2584.00000</td>\n",
       "      <td>71876.00000</td>\n",
       "      <td>31.00000</td>\n",
       "      <td>416</td>\n",
       "      <td>30</td>\n",
       "      <td>0.00000</td>\n",
       "    </tr>\n",
       "    <tr>\n",
       "      <th>2</th>\n",
       "      <td>128650</td>\n",
       "      <td>366.86000</td>\n",
       "      <td>10800.00000</td>\n",
       "      <td>13.57000</td>\n",
       "      <td>36.00000</td>\n",
       "      <td>debt_consolidation</td>\n",
       "      <td>rent</td>\n",
       "      <td>32000.00000</td>\n",
       "      <td>EL_4to6</td>\n",
       "      <td>0.00000</td>\n",
       "      <td>...</td>\n",
       "      <td>1 inquiry</td>\n",
       "      <td>14.00000</td>\n",
       "      <td>11.63000</td>\n",
       "      <td>25.60000</td>\n",
       "      <td>3511.00000</td>\n",
       "      <td>89230.00000</td>\n",
       "      <td>40.00000</td>\n",
       "      <td>354</td>\n",
       "      <td>19</td>\n",
       "      <td>0.00000</td>\n",
       "    </tr>\n",
       "    <tr>\n",
       "      <th>3</th>\n",
       "      <td>129758</td>\n",
       "      <td>264.11000</td>\n",
       "      <td>7200.00000</td>\n",
       "      <td>19.05000</td>\n",
       "      <td>36.00000</td>\n",
       "      <td>debt_consolidation</td>\n",
       "      <td>rent</td>\n",
       "      <td>58000.00000</td>\n",
       "      <td>EL_7to9</td>\n",
       "      <td>0.00000</td>\n",
       "      <td>...</td>\n",
       "      <td>no inquiry</td>\n",
       "      <td>6.00000</td>\n",
       "      <td>2.05000</td>\n",
       "      <td>90.10000</td>\n",
       "      <td>3874.00000</td>\n",
       "      <td>154930.00000</td>\n",
       "      <td>25.00000</td>\n",
       "      <td>697</td>\n",
       "      <td>21</td>\n",
       "      <td>0.00000</td>\n",
       "    </tr>\n",
       "    <tr>\n",
       "      <th>4</th>\n",
       "      <td>130240</td>\n",
       "      <td>102.92000</td>\n",
       "      <td>3000.00000</td>\n",
       "      <td>14.26000</td>\n",
       "      <td>36.00000</td>\n",
       "      <td>credit_card</td>\n",
       "      <td>mortgage</td>\n",
       "      <td>80800.00000</td>\n",
       "      <td>EL_1to3</td>\n",
       "      <td>0.00000</td>\n",
       "      <td>...</td>\n",
       "      <td>no inquiry</td>\n",
       "      <td>13.00000</td>\n",
       "      <td>14.97000</td>\n",
       "      <td>39.50000</td>\n",
       "      <td>4740.00000</td>\n",
       "      <td>87881.00000</td>\n",
       "      <td>23.00000</td>\n",
       "      <td>799</td>\n",
       "      <td>17</td>\n",
       "      <td>0.00000</td>\n",
       "    </tr>\n",
       "  </tbody>\n",
       "</table>\n",
       "<p>5 rows × 21 columns</p>\n",
       "</div>"
      ],
      "text/plain": [
       "   account_id  installment  loan_amount  interest_rate     term  \\\n",
       "0      125968    829.10000  25000.00000       11.89000 36.00000   \n",
       "1      128479     40.50000   1200.00000       13.11000 36.00000   \n",
       "2      128650    366.86000  10800.00000       13.57000 36.00000   \n",
       "3      129758    264.11000   7200.00000       19.05000 36.00000   \n",
       "4      130240    102.92000   3000.00000       14.26000 36.00000   \n",
       "\n",
       "              purpose home_ownership  annual_income employment_length  \\\n",
       "0  debt_consolidation           rent    85000.00000          EL_less1   \n",
       "1  debt_consolidation            own    54000.00000         EL_10plus   \n",
       "2  debt_consolidation           rent    32000.00000           EL_4to6   \n",
       "3  debt_consolidation           rent    58000.00000           EL_7to9   \n",
       "4         credit_card       mortgage    80800.00000           EL_1to3   \n",
       "\n",
       "   public_records  ...  inquiries_6m open_accounts  debt_to_income  \\\n",
       "0         0.00000  ...    no inquiry      10.00000        19.48000   \n",
       "1         0.00000  ...    no inquiry       5.00000         5.47000   \n",
       "2         0.00000  ...     1 inquiry      14.00000        11.63000   \n",
       "3         0.00000  ...    no inquiry       6.00000         2.05000   \n",
       "4         0.00000  ...    no inquiry      13.00000        14.97000   \n",
       "\n",
       "   credit_card_usage  credit_card_balance  total_current_balance  nr_accounts  \\\n",
       "0           52.10000          28854.00000            99434.50000     42.00000   \n",
       "1           40.40000           2584.00000            71876.00000     31.00000   \n",
       "2           25.60000           3511.00000            89230.00000     40.00000   \n",
       "3           90.10000           3874.00000           154930.00000     25.00000   \n",
       "4           39.50000           4740.00000            87881.00000     23.00000   \n",
       "\n",
       "   credit_score  credit_age   class  \n",
       "0           710          21 0.00000  \n",
       "1           416          30 0.00000  \n",
       "2           354          19 0.00000  \n",
       "3           697          21 0.00000  \n",
       "4           799          17 0.00000  \n",
       "\n",
       "[5 rows x 21 columns]"
      ]
     },
     "execution_count": 9,
     "metadata": {},
     "output_type": "execute_result"
    }
   ],
   "source": [
    "df.head()"
   ]
  },
  {
   "cell_type": "code",
   "execution_count": 10,
   "metadata": {
    "ExecuteTime": {
     "end_time": "2020-05-02T14:43:37.203203Z",
     "start_time": "2020-05-02T14:43:37.198877Z"
    }
   },
   "outputs": [
    {
     "data": {
      "text/plain": [
       "account_id                 int64\n",
       "installment              float64\n",
       "loan_amount              float64\n",
       "interest_rate            float64\n",
       "term                     float64\n",
       "purpose                   object\n",
       "home_ownership            object\n",
       "annual_income            float64\n",
       "employment_length         object\n",
       "public_records           float64\n",
       "delinquency_2y           float64\n",
       "inquiries_6m              object\n",
       "open_accounts            float64\n",
       "debt_to_income           float64\n",
       "credit_card_usage        float64\n",
       "credit_card_balance      float64\n",
       "total_current_balance    float64\n",
       "nr_accounts              float64\n",
       "credit_score               int64\n",
       "credit_age                 int64\n",
       "class                    float64\n",
       "dtype: object"
      ]
     },
     "execution_count": 10,
     "metadata": {},
     "output_type": "execute_result"
    }
   ],
   "source": [
    "df.dtypes"
   ]
  },
  {
   "cell_type": "code",
   "execution_count": 11,
   "metadata": {
    "ExecuteTime": {
     "end_time": "2020-05-02T14:43:37.730995Z",
     "start_time": "2020-05-02T14:43:37.204948Z"
    }
   },
   "outputs": [
    {
     "data": {
      "text/plain": [
       "account_id               222655\n",
       "installment               41930\n",
       "loan_amount                1320\n",
       "interest_rate               413\n",
       "term                          2\n",
       "purpose                       3\n",
       "home_ownership                4\n",
       "annual_income             16439\n",
       "employment_length             5\n",
       "public_records               14\n",
       "delinquency_2y               24\n",
       "inquiries_6m                  3\n",
       "open_accounts                58\n",
       "debt_to_income             3963\n",
       "credit_card_usage          1193\n",
       "credit_card_balance       45886\n",
       "total_current_balance    125006\n",
       "nr_accounts                 105\n",
       "credit_score               1464\n",
       "credit_age                   61\n",
       "class                         2\n",
       "dtype: int64"
      ]
     },
     "execution_count": 11,
     "metadata": {},
     "output_type": "execute_result"
    }
   ],
   "source": [
    "df.nunique()"
   ]
  },
  {
   "cell_type": "code",
   "execution_count": 12,
   "metadata": {
    "ExecuteTime": {
     "end_time": "2020-05-02T14:43:37.769586Z",
     "start_time": "2020-05-02T14:43:37.732367Z"
    }
   },
   "outputs": [
    {
     "data": {
      "text/plain": [
       "Index([], dtype='object')"
      ]
     },
     "execution_count": 12,
     "metadata": {},
     "output_type": "execute_result"
    }
   ],
   "source": [
    "df.columns[df.isna().any()]"
   ]
  }
 ],
 "metadata": {
  "kernelspec": {
   "display_name": "Python 3",
   "language": "python",
   "name": "python3"
  },
  "language_info": {
   "codemirror_mode": {
    "name": "ipython",
    "version": 3
   },
   "file_extension": ".py",
   "mimetype": "text/x-python",
   "name": "python",
   "nbconvert_exporter": "python",
   "pygments_lexer": "ipython3",
   "version": "3.7.5"
  },
  "latex_envs": {
   "LaTeX_envs_menu_present": true,
   "autoclose": false,
   "autocomplete": true,
   "bibliofile": "biblio.bib",
   "cite_by": "apalike",
   "current_citInitial": 1,
   "eqLabelWithNumbers": true,
   "eqNumInitial": 1,
   "hotkeys": {
    "equation": "Ctrl-E",
    "itemize": "Ctrl-I"
   },
   "labels_anchors": false,
   "latex_user_defs": false,
   "report_style_numbering": false,
   "user_envs_cfg": false
  },
  "varInspector": {
   "cols": {
    "lenName": 16,
    "lenType": 16,
    "lenVar": 40
   },
   "kernels_config": {
    "python": {
     "delete_cmd_postfix": "",
     "delete_cmd_prefix": "del ",
     "library": "var_list.py",
     "varRefreshCmd": "print(var_dic_list())"
    },
    "r": {
     "delete_cmd_postfix": ") ",
     "delete_cmd_prefix": "rm(",
     "library": "var_list.r",
     "varRefreshCmd": "cat(var_dic_list()) "
    }
   },
   "types_to_exclude": [
    "module",
    "function",
    "builtin_function_or_method",
    "instance",
    "_Feature"
   ],
   "window_display": false
  }
 },
 "nbformat": 4,
 "nbformat_minor": 4
}
