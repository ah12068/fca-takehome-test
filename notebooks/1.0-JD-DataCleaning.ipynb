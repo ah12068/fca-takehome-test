{
 "cells": [
  {
   "cell_type": "markdown",
   "metadata": {},
   "source": [
    "# imports"
   ]
  },
  {
   "cell_type": "code",
   "execution_count": 2,
   "metadata": {
    "ExecuteTime": {
     "end_time": "2020-05-01T12:26:58.835060Z",
     "start_time": "2020-05-01T12:26:57.853389Z"
    }
   },
   "outputs": [],
   "source": [
    "import pandas as pd\n",
    "import numpy as np\n",
    "import seaborn as sns\n",
    "import matplotlib.pyplot as plt\n",
    "import plotly.graph_objs as go\n",
    "import plotly.io as pio\n",
    "\n",
    "pio.templates.default = 'plotly_white'\n",
    "pd.set_option('display.float_format', '{:.5f}'.format)"
   ]
  },
  {
   "cell_type": "markdown",
   "metadata": {},
   "source": [
    "# read data"
   ]
  },
  {
   "cell_type": "code",
   "execution_count": 3,
   "metadata": {
    "ExecuteTime": {
     "end_time": "2020-05-01T12:26:59.991053Z",
     "start_time": "2020-05-01T12:26:58.848062Z"
    }
   },
   "outputs": [
    {
     "name": "stderr",
     "output_type": "stream",
     "text": [
      "/home/dangj/PycharmProjects/fca-takehome-test/venv/lib/python3.7/site-packages/IPython/core/interactiveshell.py:3063: DtypeWarning:\n",
      "\n",
      "Columns (7) have mixed types.Specify dtype option on import or set low_memory=False.\n",
      "\n"
     ]
    }
   ],
   "source": [
    "df = pd.read_csv(\"../data/interim/loans_int.csv\")"
   ]
  },
  {
   "cell_type": "markdown",
   "metadata": {},
   "source": [
    "# Data cleaning"
   ]
  },
  {
   "cell_type": "markdown",
   "metadata": {},
   "source": [
    " - Remove highly correlated variables \n",
    " - To decide which variable to remove check other correlation with other variables\n",
    " \n",
    " - proceed to train model via back/fwrd selection or recusive feature selection\n",
    " - make sure methods are motivated vs other methods"
   ]
  },
  {
   "cell_type": "code",
   "execution_count": 4,
   "metadata": {
    "ExecuteTime": {
     "end_time": "2020-05-01T12:27:16.788792Z",
     "start_time": "2020-05-01T12:27:16.781227Z"
    }
   },
   "outputs": [
    {
     "data": {
      "text/plain": [
       "Index(['account_id', 'installment', 'loan_amount', 'interest_rate', 'term',\n",
       "       'purpose', 'issue_date', 'description', 'title', 'home_ownership',\n",
       "       'annual_income', 'employment_length', 'job_title',\n",
       "       'earliest_credit_line', 'public_records', 'last_record_months',\n",
       "       'last_delinquency_months', 'last_derog_months', 'delinquency_2y',\n",
       "       'inquiries_6m', 'open_accounts', 'debt_to_income', 'credit_card_usage',\n",
       "       'credit_card_balance', 'total_current_balance', 'nr_accounts',\n",
       "       'loan_status', 'amount_payed', 'year', 'district', 'postcode_district',\n",
       "       'credit_score'],\n",
       "      dtype='object')"
      ]
     },
     "execution_count": 4,
     "metadata": {},
     "output_type": "execute_result"
    }
   ],
   "source": [
    "df.columns"
   ]
  },
  {
   "cell_type": "code",
   "execution_count": 7,
   "metadata": {
    "ExecuteTime": {
     "end_time": "2020-05-01T12:27:48.697623Z",
     "start_time": "2020-05-01T12:27:48.689202Z"
    }
   },
   "outputs": [
    {
     "data": {
      "text/plain": [
       "account_id                   int64\n",
       "installment                float64\n",
       "loan_amount                float64\n",
       "interest_rate              float64\n",
       "term                        object\n",
       "purpose                     object\n",
       "issue_date                  object\n",
       "description                 object\n",
       "title                       object\n",
       "home_ownership              object\n",
       "annual_income               object\n",
       "employment_length           object\n",
       "job_title                   object\n",
       "earliest_credit_line        object\n",
       "public_records             float64\n",
       "last_record_months         float64\n",
       "last_delinquency_months    float64\n",
       "last_derog_months          float64\n",
       "delinquency_2y             float64\n",
       "inquiries_6m               float64\n",
       "open_accounts              float64\n",
       "debt_to_income             float64\n",
       "credit_card_usage          float64\n",
       "credit_card_balance        float64\n",
       "total_current_balance      float64\n",
       "nr_accounts                float64\n",
       "loan_status                 object\n",
       "amount_payed               float64\n",
       "year                         int64\n",
       "district                    object\n",
       "postcode_district           object\n",
       "credit_score               float64\n",
       "dtype: object"
      ]
     },
     "execution_count": 7,
     "metadata": {},
     "output_type": "execute_result"
    }
   ],
   "source": [
    "df.dtypes"
   ]
  },
  {
   "cell_type": "code",
   "execution_count": 6,
   "metadata": {
    "ExecuteTime": {
     "end_time": "2020-05-01T12:27:31.219079Z",
     "start_time": "2020-05-01T12:27:31.191518Z"
    }
   },
   "outputs": [
    {
     "data": {
      "text/html": [
       "<div>\n",
       "<style scoped>\n",
       "    .dataframe tbody tr th:only-of-type {\n",
       "        vertical-align: middle;\n",
       "    }\n",
       "\n",
       "    .dataframe tbody tr th {\n",
       "        vertical-align: top;\n",
       "    }\n",
       "\n",
       "    .dataframe thead th {\n",
       "        text-align: right;\n",
       "    }\n",
       "</style>\n",
       "<table border=\"1\" class=\"dataframe\">\n",
       "  <thead>\n",
       "    <tr style=\"text-align: right;\">\n",
       "      <th></th>\n",
       "      <th>account_id</th>\n",
       "      <th>installment</th>\n",
       "      <th>loan_amount</th>\n",
       "      <th>interest_rate</th>\n",
       "      <th>term</th>\n",
       "      <th>purpose</th>\n",
       "      <th>issue_date</th>\n",
       "      <th>description</th>\n",
       "      <th>title</th>\n",
       "      <th>home_ownership</th>\n",
       "      <th>...</th>\n",
       "      <th>credit_card_usage</th>\n",
       "      <th>credit_card_balance</th>\n",
       "      <th>total_current_balance</th>\n",
       "      <th>nr_accounts</th>\n",
       "      <th>loan_status</th>\n",
       "      <th>amount_payed</th>\n",
       "      <th>year</th>\n",
       "      <th>district</th>\n",
       "      <th>postcode_district</th>\n",
       "      <th>credit_score</th>\n",
       "    </tr>\n",
       "  </thead>\n",
       "  <tbody>\n",
       "    <tr>\n",
       "      <th>0</th>\n",
       "      <td>125968</td>\n",
       "      <td>829.10000</td>\n",
       "      <td>25000.00000</td>\n",
       "      <td>11.89000</td>\n",
       "      <td>36 months</td>\n",
       "      <td>debt_consolidation</td>\n",
       "      <td>Aug-2009</td>\n",
       "      <td>Due to a lack of personal finance education an...</td>\n",
       "      <td>Debt consolidation for on-time payer</td>\n",
       "      <td>RENT</td>\n",
       "      <td>...</td>\n",
       "      <td>52.10000</td>\n",
       "      <td>28854.00000</td>\n",
       "      <td>nan</td>\n",
       "      <td>42.00000</td>\n",
       "      <td>Fully Paid</td>\n",
       "      <td>29324.32000</td>\n",
       "      <td>2009</td>\n",
       "      <td>Liverpool</td>\n",
       "      <td>L69</td>\n",
       "      <td>710.69972</td>\n",
       "    </tr>\n",
       "    <tr>\n",
       "      <th>1</th>\n",
       "      <td>128479</td>\n",
       "      <td>40.50000</td>\n",
       "      <td>1200.00000</td>\n",
       "      <td>13.11000</td>\n",
       "      <td>36 months</td>\n",
       "      <td>debt_consolidation</td>\n",
       "      <td>Mar-2010</td>\n",
       "      <td>If funded, I would use this loan consolidate t...</td>\n",
       "      <td>zxcvb</td>\n",
       "      <td>OWN</td>\n",
       "      <td>...</td>\n",
       "      <td>40.40000</td>\n",
       "      <td>2584.00000</td>\n",
       "      <td>nan</td>\n",
       "      <td>31.00000</td>\n",
       "      <td>Fully Paid</td>\n",
       "      <td>1457.31000</td>\n",
       "      <td>2010</td>\n",
       "      <td>Redbridge</td>\n",
       "      <td>IG9</td>\n",
       "      <td>416.08693</td>\n",
       "    </tr>\n",
       "    <tr>\n",
       "      <th>2</th>\n",
       "      <td>128650</td>\n",
       "      <td>366.86000</td>\n",
       "      <td>10800.00000</td>\n",
       "      <td>13.57000</td>\n",
       "      <td>36 months</td>\n",
       "      <td>debt_consolidation</td>\n",
       "      <td>Nov-2009</td>\n",
       "      <td>I currently have a personal loan with Citifina...</td>\n",
       "      <td>Nicolechr1978</td>\n",
       "      <td>RENT</td>\n",
       "      <td>...</td>\n",
       "      <td>25.60000</td>\n",
       "      <td>3511.00000</td>\n",
       "      <td>nan</td>\n",
       "      <td>40.00000</td>\n",
       "      <td>Fully Paid</td>\n",
       "      <td>13195.27000</td>\n",
       "      <td>2009</td>\n",
       "      <td>Rugby</td>\n",
       "      <td>CV21</td>\n",
       "      <td>354.22883</td>\n",
       "    </tr>\n",
       "    <tr>\n",
       "      <th>3</th>\n",
       "      <td>129758</td>\n",
       "      <td>264.11000</td>\n",
       "      <td>7200.00000</td>\n",
       "      <td>19.05000</td>\n",
       "      <td>36 months</td>\n",
       "      <td>debt_consolidation</td>\n",
       "      <td>Aug-2012</td>\n",
       "      <td>Credit cards are out of here, I am tired of be...</td>\n",
       "      <td>caminijio</td>\n",
       "      <td>RENT</td>\n",
       "      <td>...</td>\n",
       "      <td>90.10000</td>\n",
       "      <td>3874.00000</td>\n",
       "      <td>154930.00000</td>\n",
       "      <td>25.00000</td>\n",
       "      <td>Fully Paid</td>\n",
       "      <td>9100.80466</td>\n",
       "      <td>2012</td>\n",
       "      <td>West Lindsey</td>\n",
       "      <td>DN21</td>\n",
       "      <td>697.21416</td>\n",
       "    </tr>\n",
       "    <tr>\n",
       "      <th>4</th>\n",
       "      <td>130240</td>\n",
       "      <td>102.92000</td>\n",
       "      <td>3000.00000</td>\n",
       "      <td>14.26000</td>\n",
       "      <td>36 months</td>\n",
       "      <td>credit_card</td>\n",
       "      <td>Sep-2009</td>\n",
       "      <td>I am seeking to refinance a credit account whi...</td>\n",
       "      <td>Rejecting new cardmember agreement</td>\n",
       "      <td>MORTGAGE</td>\n",
       "      <td>...</td>\n",
       "      <td>39.50000</td>\n",
       "      <td>4740.00000</td>\n",
       "      <td>nan</td>\n",
       "      <td>23.00000</td>\n",
       "      <td>Fully Paid</td>\n",
       "      <td>3703.38000</td>\n",
       "      <td>2009</td>\n",
       "      <td>South Derbyshire</td>\n",
       "      <td>DE11</td>\n",
       "      <td>799.42870</td>\n",
       "    </tr>\n",
       "  </tbody>\n",
       "</table>\n",
       "<p>5 rows × 32 columns</p>\n",
       "</div>"
      ],
      "text/plain": [
       "   account_id  installment  loan_amount  interest_rate        term  \\\n",
       "0      125968    829.10000  25000.00000       11.89000   36 months   \n",
       "1      128479     40.50000   1200.00000       13.11000   36 months   \n",
       "2      128650    366.86000  10800.00000       13.57000   36 months   \n",
       "3      129758    264.11000   7200.00000       19.05000   36 months   \n",
       "4      130240    102.92000   3000.00000       14.26000   36 months   \n",
       "\n",
       "              purpose issue_date  \\\n",
       "0  debt_consolidation   Aug-2009   \n",
       "1  debt_consolidation   Mar-2010   \n",
       "2  debt_consolidation   Nov-2009   \n",
       "3  debt_consolidation   Aug-2012   \n",
       "4         credit_card   Sep-2009   \n",
       "\n",
       "                                         description  \\\n",
       "0  Due to a lack of personal finance education an...   \n",
       "1  If funded, I would use this loan consolidate t...   \n",
       "2  I currently have a personal loan with Citifina...   \n",
       "3  Credit cards are out of here, I am tired of be...   \n",
       "4  I am seeking to refinance a credit account whi...   \n",
       "\n",
       "                                  title home_ownership  ... credit_card_usage  \\\n",
       "0  Debt consolidation for on-time payer           RENT  ...          52.10000   \n",
       "1                                 zxcvb            OWN  ...          40.40000   \n",
       "2                         Nicolechr1978           RENT  ...          25.60000   \n",
       "3                             caminijio           RENT  ...          90.10000   \n",
       "4    Rejecting new cardmember agreement       MORTGAGE  ...          39.50000   \n",
       "\n",
       "  credit_card_balance total_current_balance nr_accounts  loan_status  \\\n",
       "0         28854.00000                   nan    42.00000   Fully Paid   \n",
       "1          2584.00000                   nan    31.00000   Fully Paid   \n",
       "2          3511.00000                   nan    40.00000   Fully Paid   \n",
       "3          3874.00000          154930.00000    25.00000   Fully Paid   \n",
       "4          4740.00000                   nan    23.00000   Fully Paid   \n",
       "\n",
       "   amount_payed  year          district  postcode_district  credit_score  \n",
       "0   29324.32000  2009         Liverpool                L69     710.69972  \n",
       "1    1457.31000  2010         Redbridge                IG9     416.08693  \n",
       "2   13195.27000  2009             Rugby               CV21     354.22883  \n",
       "3    9100.80466  2012      West Lindsey               DN21     697.21416  \n",
       "4    3703.38000  2009  South Derbyshire               DE11     799.42870  \n",
       "\n",
       "[5 rows x 32 columns]"
      ]
     },
     "execution_count": 6,
     "metadata": {},
     "output_type": "execute_result"
    }
   ],
   "source": [
    "df.head(5)"
   ]
  },
  {
   "cell_type": "code",
   "execution_count": 8,
   "metadata": {
    "ExecuteTime": {
     "end_time": "2020-05-01T12:29:12.927328Z",
     "start_time": "2020-05-01T12:29:11.636552Z"
    }
   },
   "outputs": [
    {
     "data": {
      "text/plain": [
       "account_id                 237436\n",
       "installment                 43308\n",
       "loan_amount                  1328\n",
       "interest_rate                 413\n",
       "term                            2\n",
       "purpose                        14\n",
       "issue_date                     84\n",
       "description                 77364\n",
       "title                       42797\n",
       "home_ownership                  6\n",
       "annual_income               18837\n",
       "employment_length              11\n",
       "job_title                  123190\n",
       "earliest_credit_line          645\n",
       "public_records                 14\n",
       "last_record_months            122\n",
       "last_delinquency_months       123\n",
       "last_derog_months             151\n",
       "delinquency_2y                 24\n",
       "inquiries_6m                    9\n",
       "open_accounts                  59\n",
       "debt_to_income               3976\n",
       "credit_card_usage            1199\n",
       "credit_card_balance         46736\n",
       "total_current_balance      131405\n",
       "nr_accounts                   105\n",
       "loan_status                     5\n",
       "amount_payed               227572\n",
       "year                            7\n",
       "district                      382\n",
       "postcode_district            3005\n",
       "credit_score               237436\n",
       "dtype: int64"
      ]
     },
     "execution_count": 8,
     "metadata": {},
     "output_type": "execute_result"
    }
   ],
   "source": [
    "df.nunique()"
   ]
  }
 ],
 "metadata": {
  "kernelspec": {
   "display_name": "Python 3",
   "language": "python",
   "name": "python3"
  },
  "language_info": {
   "codemirror_mode": {
    "name": "ipython",
    "version": 3
   },
   "file_extension": ".py",
   "mimetype": "text/x-python",
   "name": "python",
   "nbconvert_exporter": "python",
   "pygments_lexer": "ipython3",
   "version": "3.7.5"
  },
  "latex_envs": {
   "LaTeX_envs_menu_present": true,
   "autoclose": false,
   "autocomplete": true,
   "bibliofile": "biblio.bib",
   "cite_by": "apalike",
   "current_citInitial": 1,
   "eqLabelWithNumbers": true,
   "eqNumInitial": 1,
   "hotkeys": {
    "equation": "Ctrl-E",
    "itemize": "Ctrl-I"
   },
   "labels_anchors": false,
   "latex_user_defs": false,
   "report_style_numbering": false,
   "user_envs_cfg": false
  },
  "varInspector": {
   "cols": {
    "lenName": 16,
    "lenType": 16,
    "lenVar": 40
   },
   "kernels_config": {
    "python": {
     "delete_cmd_postfix": "",
     "delete_cmd_prefix": "del ",
     "library": "var_list.py",
     "varRefreshCmd": "print(var_dic_list())"
    },
    "r": {
     "delete_cmd_postfix": ") ",
     "delete_cmd_prefix": "rm(",
     "library": "var_list.r",
     "varRefreshCmd": "cat(var_dic_list()) "
    }
   },
   "types_to_exclude": [
    "module",
    "function",
    "builtin_function_or_method",
    "instance",
    "_Feature"
   ],
   "window_display": false
  }
 },
 "nbformat": 4,
 "nbformat_minor": 4
}
