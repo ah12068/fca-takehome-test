{
 "cells": [
  {
   "cell_type": "markdown",
   "metadata": {
    "heading_collapsed": true
   },
   "source": [
    "## Imports"
   ]
  },
  {
   "cell_type": "code",
   "execution_count": 1,
   "metadata": {
    "ExecuteTime": {
     "end_time": "2020-04-29T15:51:02.059462Z",
     "start_time": "2020-04-29T15:51:00.164997Z"
    },
    "hidden": true
   },
   "outputs": [],
   "source": [
    "import pandas as pd\n",
    "import numpy as np\n",
    "import seaborn as sns\n",
    "import matplotlib.pyplot as plt\n",
    "import plotly\n",
    "import plotly.graph_objs as go\n",
    "import plotly.io as pio\n",
    "\n",
    "pio.templates.default = 'plotly_white'\n",
    "pd.set_option('display.float_format', '{:.5f}'.format)"
   ]
  },
  {
   "cell_type": "markdown",
   "metadata": {
    "heading_collapsed": true
   },
   "source": [
    "## Read data"
   ]
  },
  {
   "cell_type": "code",
   "execution_count": 2,
   "metadata": {
    "ExecuteTime": {
     "end_time": "2020-04-29T15:51:03.206229Z",
     "start_time": "2020-04-29T15:51:02.061182Z"
    },
    "hidden": true
   },
   "outputs": [
    {
     "name": "stderr",
     "output_type": "stream",
     "text": [
      "/home/dangj/PycharmProjects/fca-takehome-test/venv/lib/python3.7/site-packages/IPython/core/interactiveshell.py:3063: DtypeWarning:\n",
      "\n",
      "Columns (7) have mixed types.Specify dtype option on import or set low_memory=False.\n",
      "\n"
     ]
    }
   ],
   "source": [
    "df = pd.read_csv(\"../data/interim/loans_int.csv\")"
   ]
  },
  {
   "cell_type": "code",
   "execution_count": 3,
   "metadata": {
    "ExecuteTime": {
     "end_time": "2020-04-29T15:51:03.211915Z",
     "start_time": "2020-04-29T15:51:03.207579Z"
    },
    "hidden": true
   },
   "outputs": [],
   "source": [
    "data_dict = pd.read_csv('../references/data-dictionary.csv')"
   ]
  },
  {
   "cell_type": "markdown",
   "metadata": {},
   "source": [
    "## Objectives"
   ]
  },
  {
   "cell_type": "markdown",
   "metadata": {},
   "source": [
    "- Understand the data\n",
    "- Check data for completeness na's and cells with whitespace and resolve\n",
    "- Check object data type and resolve\n",
    "\n",
    "Overall picture:\n",
    "\n",
    "- Want to answer: How to predict if an individual will default or pay their full loan?\n",
    "- Model to be used as a tool to support analysts => simple model to use and understand\n",
    "- Worth assessing the monetary value of model"
   ]
  },
  {
   "cell_type": "markdown",
   "metadata": {},
   "source": [
    "## Data dictionary - data understanding"
   ]
  },
  {
   "cell_type": "markdown",
   "metadata": {},
   "source": [
    "- When someone applies for a loan we would not know their loan status! So this would be a type of data leakage and should not be present in the dataset \n",
    "\n",
    "- "
   ]
  },
  {
   "cell_type": "code",
   "execution_count": 12,
   "metadata": {
    "ExecuteTime": {
     "end_time": "2020-04-29T16:01:30.812723Z",
     "start_time": "2020-04-29T16:01:30.791942Z"
    },
    "scrolled": true
   },
   "outputs": [
    {
     "data": {
      "text/html": [
       "<div>\n",
       "<style scoped>\n",
       "    .dataframe tbody tr th:only-of-type {\n",
       "        vertical-align: middle;\n",
       "    }\n",
       "\n",
       "    .dataframe tbody tr th {\n",
       "        vertical-align: top;\n",
       "    }\n",
       "\n",
       "    .dataframe thead th {\n",
       "        text-align: right;\n",
       "    }\n",
       "</style>\n",
       "<table border=\"1\" class=\"dataframe\">\n",
       "  <thead>\n",
       "    <tr style=\"text-align: right;\">\n",
       "      <th></th>\n",
       "      <th>account_id</th>\n",
       "      <th>installment</th>\n",
       "      <th>loan_amount</th>\n",
       "      <th>interest_rate</th>\n",
       "      <th>term</th>\n",
       "      <th>purpose</th>\n",
       "      <th>issue_date</th>\n",
       "      <th>description</th>\n",
       "      <th>title</th>\n",
       "      <th>home_ownership</th>\n",
       "      <th>...</th>\n",
       "      <th>credit_card_usage</th>\n",
       "      <th>credit_card_balance</th>\n",
       "      <th>total_current_balance</th>\n",
       "      <th>nr_accounts</th>\n",
       "      <th>loan_status</th>\n",
       "      <th>amount_payed</th>\n",
       "      <th>year</th>\n",
       "      <th>district</th>\n",
       "      <th>postcode_district</th>\n",
       "      <th>credit_score</th>\n",
       "    </tr>\n",
       "  </thead>\n",
       "  <tbody>\n",
       "    <tr>\n",
       "      <th>0</th>\n",
       "      <td>125968</td>\n",
       "      <td>829.10000</td>\n",
       "      <td>25000.00000</td>\n",
       "      <td>11.89000</td>\n",
       "      <td>36 months</td>\n",
       "      <td>debt_consolidation</td>\n",
       "      <td>Aug-2009</td>\n",
       "      <td>Due to a lack of personal finance education an...</td>\n",
       "      <td>Debt consolidation for on-time payer</td>\n",
       "      <td>RENT</td>\n",
       "      <td>...</td>\n",
       "      <td>52.10000</td>\n",
       "      <td>28854.00000</td>\n",
       "      <td>nan</td>\n",
       "      <td>42.00000</td>\n",
       "      <td>Fully Paid</td>\n",
       "      <td>29324.32000</td>\n",
       "      <td>2009</td>\n",
       "      <td>Liverpool</td>\n",
       "      <td>L69</td>\n",
       "      <td>710.69972</td>\n",
       "    </tr>\n",
       "    <tr>\n",
       "      <th>1</th>\n",
       "      <td>128479</td>\n",
       "      <td>40.50000</td>\n",
       "      <td>1200.00000</td>\n",
       "      <td>13.11000</td>\n",
       "      <td>36 months</td>\n",
       "      <td>debt_consolidation</td>\n",
       "      <td>Mar-2010</td>\n",
       "      <td>If funded, I would use this loan consolidate t...</td>\n",
       "      <td>zxcvb</td>\n",
       "      <td>OWN</td>\n",
       "      <td>...</td>\n",
       "      <td>40.40000</td>\n",
       "      <td>2584.00000</td>\n",
       "      <td>nan</td>\n",
       "      <td>31.00000</td>\n",
       "      <td>Fully Paid</td>\n",
       "      <td>1457.31000</td>\n",
       "      <td>2010</td>\n",
       "      <td>Redbridge</td>\n",
       "      <td>IG9</td>\n",
       "      <td>416.08693</td>\n",
       "    </tr>\n",
       "    <tr>\n",
       "      <th>2</th>\n",
       "      <td>128650</td>\n",
       "      <td>366.86000</td>\n",
       "      <td>10800.00000</td>\n",
       "      <td>13.57000</td>\n",
       "      <td>36 months</td>\n",
       "      <td>debt_consolidation</td>\n",
       "      <td>Nov-2009</td>\n",
       "      <td>I currently have a personal loan with Citifina...</td>\n",
       "      <td>Nicolechr1978</td>\n",
       "      <td>RENT</td>\n",
       "      <td>...</td>\n",
       "      <td>25.60000</td>\n",
       "      <td>3511.00000</td>\n",
       "      <td>nan</td>\n",
       "      <td>40.00000</td>\n",
       "      <td>Fully Paid</td>\n",
       "      <td>13195.27000</td>\n",
       "      <td>2009</td>\n",
       "      <td>Rugby</td>\n",
       "      <td>CV21</td>\n",
       "      <td>354.22883</td>\n",
       "    </tr>\n",
       "    <tr>\n",
       "      <th>3</th>\n",
       "      <td>129758</td>\n",
       "      <td>264.11000</td>\n",
       "      <td>7200.00000</td>\n",
       "      <td>19.05000</td>\n",
       "      <td>36 months</td>\n",
       "      <td>debt_consolidation</td>\n",
       "      <td>Aug-2012</td>\n",
       "      <td>Credit cards are out of here, I am tired of be...</td>\n",
       "      <td>caminijio</td>\n",
       "      <td>RENT</td>\n",
       "      <td>...</td>\n",
       "      <td>90.10000</td>\n",
       "      <td>3874.00000</td>\n",
       "      <td>154930.00000</td>\n",
       "      <td>25.00000</td>\n",
       "      <td>Fully Paid</td>\n",
       "      <td>9100.80466</td>\n",
       "      <td>2012</td>\n",
       "      <td>West Lindsey</td>\n",
       "      <td>DN21</td>\n",
       "      <td>697.21416</td>\n",
       "    </tr>\n",
       "    <tr>\n",
       "      <th>4</th>\n",
       "      <td>130240</td>\n",
       "      <td>102.92000</td>\n",
       "      <td>3000.00000</td>\n",
       "      <td>14.26000</td>\n",
       "      <td>36 months</td>\n",
       "      <td>credit_card</td>\n",
       "      <td>Sep-2009</td>\n",
       "      <td>I am seeking to refinance a credit account whi...</td>\n",
       "      <td>Rejecting new cardmember agreement</td>\n",
       "      <td>MORTGAGE</td>\n",
       "      <td>...</td>\n",
       "      <td>39.50000</td>\n",
       "      <td>4740.00000</td>\n",
       "      <td>nan</td>\n",
       "      <td>23.00000</td>\n",
       "      <td>Fully Paid</td>\n",
       "      <td>3703.38000</td>\n",
       "      <td>2009</td>\n",
       "      <td>South Derbyshire</td>\n",
       "      <td>DE11</td>\n",
       "      <td>799.42870</td>\n",
       "    </tr>\n",
       "  </tbody>\n",
       "</table>\n",
       "<p>5 rows × 32 columns</p>\n",
       "</div>"
      ],
      "text/plain": [
       "   account_id  installment  loan_amount  interest_rate        term  \\\n",
       "0      125968    829.10000  25000.00000       11.89000   36 months   \n",
       "1      128479     40.50000   1200.00000       13.11000   36 months   \n",
       "2      128650    366.86000  10800.00000       13.57000   36 months   \n",
       "3      129758    264.11000   7200.00000       19.05000   36 months   \n",
       "4      130240    102.92000   3000.00000       14.26000   36 months   \n",
       "\n",
       "              purpose issue_date  \\\n",
       "0  debt_consolidation   Aug-2009   \n",
       "1  debt_consolidation   Mar-2010   \n",
       "2  debt_consolidation   Nov-2009   \n",
       "3  debt_consolidation   Aug-2012   \n",
       "4         credit_card   Sep-2009   \n",
       "\n",
       "                                         description  \\\n",
       "0  Due to a lack of personal finance education an...   \n",
       "1  If funded, I would use this loan consolidate t...   \n",
       "2  I currently have a personal loan with Citifina...   \n",
       "3  Credit cards are out of here, I am tired of be...   \n",
       "4  I am seeking to refinance a credit account whi...   \n",
       "\n",
       "                                  title home_ownership  ... credit_card_usage  \\\n",
       "0  Debt consolidation for on-time payer           RENT  ...          52.10000   \n",
       "1                                 zxcvb            OWN  ...          40.40000   \n",
       "2                         Nicolechr1978           RENT  ...          25.60000   \n",
       "3                             caminijio           RENT  ...          90.10000   \n",
       "4    Rejecting new cardmember agreement       MORTGAGE  ...          39.50000   \n",
       "\n",
       "  credit_card_balance total_current_balance nr_accounts  loan_status  \\\n",
       "0         28854.00000                   nan    42.00000   Fully Paid   \n",
       "1          2584.00000                   nan    31.00000   Fully Paid   \n",
       "2          3511.00000                   nan    40.00000   Fully Paid   \n",
       "3          3874.00000          154930.00000    25.00000   Fully Paid   \n",
       "4          4740.00000                   nan    23.00000   Fully Paid   \n",
       "\n",
       "   amount_payed  year          district  postcode_district  credit_score  \n",
       "0   29324.32000  2009         Liverpool                L69     710.69972  \n",
       "1    1457.31000  2010         Redbridge                IG9     416.08693  \n",
       "2   13195.27000  2009             Rugby               CV21     354.22883  \n",
       "3    9100.80466  2012      West Lindsey               DN21     697.21416  \n",
       "4    3703.38000  2009  South Derbyshire               DE11     799.42870  \n",
       "\n",
       "[5 rows x 32 columns]"
      ]
     },
     "execution_count": 12,
     "metadata": {},
     "output_type": "execute_result"
    }
   ],
   "source": [
    "df.head()"
   ]
  },
  {
   "cell_type": "code",
   "execution_count": 4,
   "metadata": {
    "ExecuteTime": {
     "end_time": "2020-04-29T15:51:03.220972Z",
     "start_time": "2020-04-29T15:51:03.213272Z"
    },
    "code_folding": [
     0
    ],
    "scrolled": false
   },
   "outputs": [
    {
     "name": "stdout",
     "output_type": "stream",
     "text": [
      "annual_income:\n",
      "The self-reported annual income provided by the borrower during registration.\n",
      "\n",
      "\n",
      "delinquency_2y:\n",
      "The number of 30+ days past-due incidences of delinquency in the borrower's credit file for the past 2 years.\n",
      "\n",
      "\n",
      "description:\n",
      "Loan description provided by the borrower.\n",
      "\n",
      "\n",
      "debt_to_income:\n",
      "A ratio calculated using the borrower's total monthly debt payments on the total debt obligations, excluding mortgage and the requested loan, divided by the borrower’s self-reported monthly income.\n",
      "\n",
      "\n",
      "earliest_credit_line:\n",
      "The month the borrower's earliest reported credit line was opened.\n",
      "\n",
      "\n",
      "employment_length:\n",
      "Employment length in years. Possible values are between 0 and 10 where 0 means less than one year and 10 means ten or more years.\n",
      "\n",
      "\n",
      "job_title:\n",
      "The job title supplied by the borrower when applying for the loan.\n",
      "\n",
      "\n",
      "home_ownership:\n",
      "The home ownership status provided by the borrower during registration. The values are: RENT, OWN, MORTGAGE, OTHER.\n",
      "\n",
      "\n",
      "inquiries_6m:\n",
      "The number of inquiries in past 6 months (excluding auto and mortgage inquiries).\n",
      "\n",
      "\n",
      "installment:\n",
      "The monthly payment owed by the borrower.\n",
      "\n",
      "\n",
      "interest_rate:\n",
      "Interest rate on the loan.\n",
      "\n",
      "\n",
      "issue_date:\n",
      "The month which the loan was funded.\n",
      "\n",
      "\n",
      "loan_amount:\n",
      "The listed amount of the loan applied for by the borrower.\n",
      "\n",
      "\n",
      "loan_status:\n",
      "Current status of the loan.\n",
      "\n",
      "\n",
      "last_delinquency_months:\n",
      "The number of months since the borrower's last delinquency.\n",
      "\n",
      "\n",
      "last_derog_months:\n",
      "Months since most recent 90-day or worse rating.\n",
      "\n",
      "\n",
      "last_record_months:\n",
      "The number of months since the last public record.\n",
      "\n",
      "\n",
      "open_accounts:\n",
      "The number of open credit lines in the borrower's credit file.\n",
      "\n",
      "\n",
      "public_records:\n",
      "Number of derogatory public records.\n",
      "\n",
      "\n",
      "purpose:\n",
      "A category provided by the borrower for the loan request.\n",
      "\n",
      "\n",
      "credit_card_balance:\n",
      "Total credit revolving balance.\n",
      "\n",
      "\n",
      "credit_card_usage:\n",
      "Revolving line utilization rate, or the amount of credit the borrower is using relative to all available revolving credit.\n",
      "\n",
      "\n",
      "term:\n",
      "The number of payments on the loan. Values are in months and can be either 36 or 60.\n",
      "\n",
      "\n",
      "title:\n",
      "The loan title provided by the borrower.\n",
      "\n",
      "\n",
      "nr_accounts:\n",
      "The total number of credit lines currently in the borrower's credit file.\n",
      "\n",
      "\n",
      "amount_payed:\n",
      "Payments received to date for total amount funded.\n",
      "\n",
      "\n",
      "total_current_balance:\n",
      "Total current balance of all accounts.\n",
      "\n",
      "\n",
      "year:\n",
      "The year which the loan was funded.\n",
      "\n",
      "\n",
      "district:\n",
      "The geographic district of the borrower's address.\n",
      "\n",
      "\n",
      "postcode_district:\n",
      "The postcode of the borrower's address.\n",
      "\n",
      "\n",
      "credit_score:\n",
      "A numeric score rating the creditworthiness of the borrower.\n",
      "\n",
      "\n"
     ]
    }
   ],
   "source": [
    "for idx in range(data_dict.shape[0]):\n",
    "    variable = data_dict.iloc[idx,0]\n",
    "    description = data_dict.iloc[idx,1]\n",
    "    print(f'{variable}:\\n{description}\\n\\n')"
   ]
  },
  {
   "cell_type": "markdown",
   "metadata": {},
   "source": [
    "## Data completeness"
   ]
  },
  {
   "cell_type": "code",
   "execution_count": 40,
   "metadata": {
    "ExecuteTime": {
     "end_time": "2020-04-29T16:19:21.450431Z",
     "start_time": "2020-04-29T16:19:21.346155Z"
    }
   },
   "outputs": [
    {
     "name": "stdout",
     "output_type": "stream",
     "text": [
      "['description', 'title', 'employment_length', 'job_title', 'last_record_months', 'last_delinquency_months', 'last_derog_months', 'credit_card_usage', 'total_current_balance', 'district']\n"
     ]
    }
   ],
   "source": [
    "df_nan = [col for col in df.columns if df[col].isnull().any()==True]\n",
    "print(df_nan)"
   ]
  },
  {
   "cell_type": "markdown",
   "metadata": {},
   "source": [
    "## Data types"
   ]
  },
  {
   "cell_type": "code",
   "execution_count": 39,
   "metadata": {
    "ExecuteTime": {
     "end_time": "2020-04-29T16:19:17.458054Z",
     "start_time": "2020-04-29T16:19:17.454551Z"
    }
   },
   "outputs": [
    {
     "name": "stdout",
     "output_type": "stream",
     "text": [
      "['term', 'purpose', 'issue_date', 'description', 'title', 'home_ownership', 'annual_income', 'employment_length', 'job_title', 'earliest_credit_line', 'loan_status', 'district', 'postcode_district']\n"
     ]
    }
   ],
   "source": [
    "df_obj_type = [col for col in df.columns if df[col].dtypes=='object']\n",
    "print(df_obj_type)"
   ]
  },
  {
   "cell_type": "markdown",
   "metadata": {},
   "source": [
    "## Resolve completeness"
   ]
  },
  {
   "cell_type": "markdown",
   "metadata": {},
   "source": [
    "- Need to resolve variables with nan in columns\n",
    "- Intuitively speaking if "
   ]
  },
  {
   "cell_type": "code",
   "execution_count": 57,
   "metadata": {
    "ExecuteTime": {
     "end_time": "2020-04-29T16:23:15.914722Z",
     "start_time": "2020-04-29T16:23:15.894608Z"
    }
   },
   "outputs": [
    {
     "data": {
      "text/plain": [
       "description    159498\n",
       "dtype: int64"
      ]
     },
     "execution_count": 57,
     "metadata": {},
     "output_type": "execute_result"
    }
   ],
   "source": [
    "df[['description']].isna().sum()"
   ]
  },
  {
   "cell_type": "code",
   "execution_count": 71,
   "metadata": {
    "ExecuteTime": {
     "end_time": "2020-04-29T17:07:26.690302Z",
     "start_time": "2020-04-29T17:07:26.621086Z"
    },
    "code_folding": [
     5
    ]
   },
   "outputs": [
    {
     "name": "stdout",
     "output_type": "stream",
     "text": [
      "{'Drop': ['description', 'last_record_months', 'last_delinquency_months', 'last_derog_months'], 'Impute': ['total_current_balance'], 'Drop Samples': ['title', 'employment_length', 'job_title', 'credit_card_usage', 'district']}\n"
     ]
    }
   ],
   "source": [
    "dict_cols_resolve = {}\n",
    "dropped = []\n",
    "impute = []\n",
    "sample_drop = []\n",
    "\n",
    "for col in df_nan:\n",
    "    num_nan = df[[col]].isna().sum()\n",
    "    total = df.shape[0]\n",
    "    nan_pct = (num_nan/total * 100).values[0] \n",
    "    \n",
    "    if nan_pct >= 50:\n",
    "        dropped.append(col)\n",
    "    elif nan_pct < 50 and nan_pct >=20:\n",
    "        impute.append(col)\n",
    "    else:\n",
    "        sample_drop.append(col)\n",
    "\n",
    "dict_cols_resolve['Drop'] = dropped\n",
    "dict_cols_resolve['Impute'] = impute\n",
    "dict_cols_resolve['Drop Samples'] = sample_drop\n",
    "\n",
    "print(dict_cols_resolve)"
   ]
  },
  {
   "cell_type": "markdown",
   "metadata": {},
   "source": [
    "## Resolve Datatypes"
   ]
  },
  {
   "cell_type": "code",
   "execution_count": null,
   "metadata": {},
   "outputs": [],
   "source": []
  }
 ],
 "metadata": {
  "kernelspec": {
   "display_name": "Python 3",
   "language": "python",
   "name": "python3"
  },
  "language_info": {
   "codemirror_mode": {
    "name": "ipython",
    "version": 3
   },
   "file_extension": ".py",
   "mimetype": "text/x-python",
   "name": "python",
   "nbconvert_exporter": "python",
   "pygments_lexer": "ipython3",
   "version": "3.7.5"
  },
  "latex_envs": {
   "LaTeX_envs_menu_present": true,
   "autoclose": false,
   "autocomplete": true,
   "bibliofile": "biblio.bib",
   "cite_by": "apalike",
   "current_citInitial": 1,
   "eqLabelWithNumbers": true,
   "eqNumInitial": 1,
   "hotkeys": {
    "equation": "Ctrl-E",
    "itemize": "Ctrl-I"
   },
   "labels_anchors": false,
   "latex_user_defs": false,
   "report_style_numbering": false,
   "user_envs_cfg": false
  },
  "varInspector": {
   "cols": {
    "lenName": 16,
    "lenType": 16,
    "lenVar": 40
   },
   "kernels_config": {
    "python": {
     "delete_cmd_postfix": "",
     "delete_cmd_prefix": "del ",
     "library": "var_list.py",
     "varRefreshCmd": "print(var_dic_list())"
    },
    "r": {
     "delete_cmd_postfix": ") ",
     "delete_cmd_prefix": "rm(",
     "library": "var_list.r",
     "varRefreshCmd": "cat(var_dic_list()) "
    }
   },
   "types_to_exclude": [
    "module",
    "function",
    "builtin_function_or_method",
    "instance",
    "_Feature"
   ],
   "window_display": false
  }
 },
 "nbformat": 4,
 "nbformat_minor": 4
}
